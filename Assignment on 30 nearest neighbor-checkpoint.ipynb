{
 "cells": [
  {
   "cell_type": "code",
   "execution_count": 15,
   "metadata": {},
   "outputs": [],
   "source": [
    "import numpy as np\n",
    "import pandas as pd\n",
    "import matplotlib \n",
    "import matplotlib.pyplot as plt\n",
    "from sklearn.neighbors import KNeighborsClassifier\n",
    "from sklearn.metrics import accuracy_score, confusion_matrix\n",
    "from sklearn.datasets import fetch_openml\n",
    "from sklearn.model_selection import train_test_split\n",
    "from sklearn.metrics import classification_report"
   ]
  },
  {
   "cell_type": "code",
   "execution_count": 2,
   "metadata": {},
   "outputs": [],
   "source": [
    "digits = fetch_openml(\"mnist_784\")"
   ]
  },
  {
   "cell_type": "code",
   "execution_count": 3,
   "metadata": {},
   "outputs": [
    {
     "data": {
      "text/plain": [
       "dict_keys(['data', 'target', 'frame', 'feature_names', 'target_names', 'DESCR', 'details', 'categories', 'url'])"
      ]
     },
     "execution_count": 3,
     "metadata": {},
     "output_type": "execute_result"
    }
   ],
   "source": [
    "digits.keys()"
   ]
  },
  {
   "cell_type": "code",
   "execution_count": 4,
   "metadata": {},
   "outputs": [],
   "source": [
    "x_data = digits.data\n",
    "y_target = digits.target"
   ]
  },
  {
   "cell_type": "code",
   "execution_count": 5,
   "metadata": {},
   "outputs": [
    {
     "data": {
      "text/plain": [
       "array([5, 0, 4, ..., 4, 5, 6], dtype=int8)"
      ]
     },
     "execution_count": 5,
     "metadata": {},
     "output_type": "execute_result"
    }
   ],
   "source": [
    "y_target = y_target.astype(np.int8)\n",
    "y_target"
   ]
  },
  {
   "cell_type": "code",
   "execution_count": 6,
   "metadata": {},
   "outputs": [
    {
     "data": {
      "image/png": "[encoded data removed]",
      "text/plain": [
       "<Figure size 432x288 with 1 Axes>"
      ]
     },
     "metadata": {
      "needs_background": "light"
     },
     "output_type": "display_data"
    }
   ],
   "source": [
    "some_digit = x_data[12]\n",
    "some_digit_image = some_digit.reshape(28,28)\n",
    "plt.imshow(some_digit_image, cmap=matplotlib.cm.binary)\n",
    "plt.axis(\"off\")\n",
    "plt.show()"
   ]
  },
  {
   "cell_type": "code",
   "execution_count": 7,
   "metadata": {},
   "outputs": [
    {
     "data": {
      "text/plain": [
       "3"
      ]
     },
     "execution_count": 7,
     "metadata": {},
     "output_type": "execute_result"
    }
   ],
   "source": [
    "y_target[12]"
   ]
  },
  {
   "cell_type": "code",
   "execution_count": 8,
   "metadata": {},
   "outputs": [],
   "source": [
    "train_x,test_x,train_y,test_y = train_test_split(x_data,y_target,test_size=0.3,random_state=10)"
   ]
  },
  {
   "cell_type": "code",
   "execution_count": 9,
   "metadata": {},
   "outputs": [
    {
     "name": "stdout",
     "output_type": "stream",
     "text": [
      "In K1  Test accuracy is 58.00%\n",
      " \n",
      "In K1  Train accuracy is 100.00%\n",
      " \n",
      "In K2  Test accuracy is 58.00%\n",
      " \n",
      "In K2  Train accuracy is 80.00%\n",
      " \n",
      "In K3  Test accuracy is 62.00%\n",
      " \n",
      "In K3  Train accuracy is 82.00%\n",
      " \n",
      "In K4  Test accuracy is 60.00%\n",
      " \n",
      "In K4  Train accuracy is 78.00%\n",
      " \n",
      "In K5  Test accuracy is 58.00%\n",
      " \n",
      "In K5  Train accuracy is 76.00%\n",
      " \n",
      "In K6  Test accuracy is 50.00%\n",
      " \n",
      "In K6  Train accuracy is 68.00%\n",
      " \n",
      "In K7  Test accuracy is 48.00%\n",
      " \n",
      "In K7  Train accuracy is 62.00%\n",
      " \n",
      "In K8  Test accuracy is 44.00%\n",
      " \n",
      "In K8  Train accuracy is 68.00%\n",
      " \n",
      "In K9  Test accuracy is 42.00%\n",
      " \n",
      "In K9  Train accuracy is 62.00%\n",
      " \n",
      "In K10  Test accuracy is 38.00%\n",
      " \n",
      "In K10  Train accuracy is 56.00%\n",
      " \n",
      "In K11  Test accuracy is 40.00%\n",
      " \n",
      "In K11  Train accuracy is 54.00%\n",
      " \n",
      "In K12  Test accuracy is 40.00%\n",
      " \n",
      "In K12  Train accuracy is 54.00%\n",
      " \n",
      "In K13  Test accuracy is 34.00%\n",
      " \n",
      "In K13  Train accuracy is 54.00%\n",
      " \n",
      "In K14  Test accuracy is 36.00%\n",
      " \n",
      "In K14  Train accuracy is 54.00%\n",
      " \n",
      "In K15  Test accuracy is 36.00%\n",
      " \n",
      "In K15  Train accuracy is 54.00%\n",
      " \n",
      "In K16  Test accuracy is 32.00%\n",
      " \n",
      "In K16  Train accuracy is 52.00%\n",
      " \n",
      "In K17  Test accuracy is 32.00%\n",
      " \n",
      "In K17  Train accuracy is 48.00%\n",
      " \n",
      "In K18  Test accuracy is 30.00%\n",
      " \n",
      "In K18  Train accuracy is 48.00%\n",
      " \n",
      "In K19  Test accuracy is 26.00%\n",
      " \n",
      "In K19  Train accuracy is 46.00%\n",
      " \n",
      "In K20  Test accuracy is 28.00%\n",
      " \n",
      "In K20  Train accuracy is 42.00%\n",
      " \n",
      "In K21  Test accuracy is 28.00%\n",
      " \n",
      "In K21  Train accuracy is 42.00%\n",
      " \n",
      "In K22  Test accuracy is 28.00%\n",
      " \n",
      "In K22  Train accuracy is 44.00%\n",
      " \n",
      "In K23  Test accuracy is 28.00%\n",
      " \n",
      "In K23  Train accuracy is 42.00%\n",
      " \n",
      "In K24  Test accuracy is 28.00%\n",
      " \n",
      "In K24  Train accuracy is 42.00%\n",
      " \n",
      "In K25  Test accuracy is 28.00%\n",
      " \n",
      "In K25  Train accuracy is 40.00%\n",
      " \n",
      "In K26  Test accuracy is 26.00%\n",
      " \n",
      "In K26  Train accuracy is 40.00%\n",
      " \n",
      "In K27  Test accuracy is 24.00%\n",
      " \n",
      "In K27  Train accuracy is 40.00%\n",
      " \n",
      "In K28  Test accuracy is 24.00%\n",
      " \n",
      "In K28  Train accuracy is 38.00%\n",
      " \n",
      "In K29  Test accuracy is 24.00%\n",
      " \n",
      "In K29  Train accuracy is 36.00%\n",
      " \n",
      "In K30  Test accuracy is 22.00%\n",
      " \n",
      "In K30  Train accuracy is 36.00%\n",
      " \n",
      "k=3 achieved highest test accuracy of 62.00% on validation data\n",
      "k=3 achieved highest train accuracy of 100.00% on validation data\n"
     ]
    }
   ],
   "source": [
    "K = range(1, 31, 1)\n",
    "accu_test = []\n",
    "accu_train = []\n",
    "for i in range(1, 31, 1):\n",
    "    KNN = KNeighborsClassifier(n_neighbors=i)\n",
    "    KNN = KNN.fit(train_x[:50], train_y[:50])\n",
    "    Testvalue = KNN.score(test_x[:50], test_y[:50])\n",
    "    Trainvalue = KNN.score(train_x[:50], train_y[:50])\n",
    "    print(\"In K%d  Test accuracy is %.2f%%\" % (i, Testvalue * 100 ))\n",
    "    print(\" \")\n",
    "    print(\"In K%d  Train accuracy is %.2f%%\" % (i, Trainvalue * 100 ))\n",
    "    print(\" \")\n",
    "    \n",
    "    accu_test.append(Testvalue)\n",
    "    accu_train.append(Trainvalue)\n",
    "    \n",
    "testmax = np.argmax(accu_test)\n",
    "trainmax = np.argmax(accu_train)\n",
    "print(\"k=%d achieved highest test accuracy of %.2f%% on validation data\" % (K[testmax],\n",
    "accu_test[testmax] * 100))\n",
    "print(\"k=%d achieved highest train accuracy of %.2f%% on validation data\" % (K[testmax],\n",
    "accu_train[trainmax] * 100))    "
   ]
  },
  {
   "cell_type": "code",
   "execution_count": 18,
   "metadata": {
    "scrolled": true
   },
   "outputs": [
    {
     "name": "stdout",
     "output_type": "stream",
     "text": [
      "Confusion matrix\n",
      "[[3 0 0 0 0 0 0 0 0 0]\n",
      " [0 6 0 0 0 0 0 0 0 0]\n",
      " [1 0 4 0 1 0 0 1 0 0]\n",
      " [1 2 0 5 0 0 0 1 0 0]\n",
      " [0 1 0 0 2 0 0 0 0 0]\n",
      " [0 1 0 0 0 1 0 0 0 0]\n",
      " [1 2 0 0 0 0 3 0 0 0]\n",
      " [0 0 0 0 0 0 0 4 0 0]\n",
      " [0 2 0 1 1 0 0 0 0 0]\n",
      " [1 0 0 0 0 0 0 0 0 4]]\n",
      " \n",
      "EVALUATION ON TESTING DATA\n",
      "              precision    recall  f1-score   support\n",
      "\n",
      "           0       0.43      1.00      0.60         3\n",
      "           1       0.43      1.00      0.60         6\n",
      "           2       1.00      0.57      0.73         7\n",
      "           3       0.83      0.56      0.67         9\n",
      "           4       0.50      0.67      0.57         3\n",
      "           5       1.00      0.50      0.67         2\n",
      "           6       1.00      0.50      0.67         6\n",
      "           7       0.67      1.00      0.80         4\n",
      "           8       0.00      0.00      0.00         4\n",
      "           9       1.00      0.80      0.89         5\n",
      "\n",
      "    accuracy                           0.65        49\n",
      "   macro avg       0.69      0.66      0.62        49\n",
      "weighted avg       0.72      0.65      0.64        49\n",
      "\n"
     ]
    },
    {
     "name": "stderr",
     "output_type": "stream",
     "text": [
      "C:\\ProgramData\\Anaconda3\\lib\\site-packages\\sklearn\\metrics\\_classification.py:1272: UndefinedMetricWarning: Precision and F-score are ill-defined and being set to 0.0 in labels with no predicted samples. Use `zero_division` parameter to control this behavior.\n",
      "  _warn_prf(average, modifier, msg_start, len(result))\n"
     ]
    }
   ],
   "source": [
    "KNN = KNeighborsClassifier(n_neighbors=K[testmax])\n",
    "KNN = KNN.fit(train_x[:50], train_y[:50])\n",
    "predictions = KNN.predict(test_x[51:100])\n",
    "\n",
    "print (\"Confusion matrix\")\n",
    "print(confusion_matrix(test_y[51:100],predictions))\n",
    "\n",
    "print(\" \")\n",
    "\n",
    "print(\"EVALUATION ON TESTING DATA\")\n",
    "print(classification_report(test_y[51:100], predictions))"
   ]
  },
  {
   "cell_type": "code",
   "execution_count": 21,
   "metadata": {},
   "outputs": [
    {
     "data": {
      "image/png": "[encoded data removed]",
      "text/plain": [
       "<Figure size 432x288 with 1 Axes>"
      ]
     },
     "metadata": {
      "needs_background": "light"
     },
     "output_type": "display_data"
    }
   ],
   "source": [
    "plt.scatter(accu_train,accu_test,c=\"orange\")\n",
    "plt.plot(accu_train,accu_test,c=\"green\")\n",
    "plt.xlabel(\"accu_test\")\n",
    "plt.ylabel(\"accu_train\")\n",
    "plt.title(\"Test Accuracies vs Train Accuracies\")\n",
    "plt.show()"
   ]
  },
  {
   "cell_type": "code",
   "execution_count": null,
   "metadata": {},
   "outputs": [],
   "source": [
    "\n"
   ]
  }
 ],
 "metadata": {
  "kernelspec": {
   "display_name": "Python 3",
   "language": "python",
   "name": "python3"
  },
  "language_info": {
   "codemirror_mode": {
    "name": "ipython",
    "version": 3
   },
   "file_extension": ".py",
   "mimetype": "text/x-python",
   "name": "python",
   "nbconvert_exporter": "python",
   "pygments_lexer": "ipython3",
   "version": "3.7.6"
  }
 },
 "nbformat": 4,
 "nbformat_minor": 4
}
